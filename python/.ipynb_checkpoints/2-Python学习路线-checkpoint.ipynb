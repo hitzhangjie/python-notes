{
 "cells": [
  {
   "cell_type": "markdown",
   "id": "7d0e9f0c-28e7-4ade-80ec-c8f55d9ff2ca",
   "metadata": {},
   "source": [
    "# 2 学习路线图\n",
    "\n",
    "Python作为一门兴盛了很久的语言，自然不缺少相关的学习资料了，但是如何做到快速入门并进阶到熟练、精通的程度，还是需要有比较合适的学习路线图。\n",
    "\n",
    "以下是我从roadmap.sh找到的关于python的学习路线图，作为一个参考。学习是一个循序渐进的过程，学习过程中不要太急功近利，按需学习。\n",
    "\n",
    "<img alt=\"python roadmap\" src=\"https://roadmap.sh/roadmaps/python.png\" width=\"680px\"/>"
   ]
  }
 ],
 "metadata": {
  "kernelspec": {
   "display_name": "Python 3 (ipykernel)",
   "language": "python",
   "name": "python3"
  },
  "language_info": {
   "codemirror_mode": {
    "name": "ipython",
    "version": 3
   },
   "file_extension": ".py",
   "mimetype": "text/x-python",
   "name": "python",
   "nbconvert_exporter": "python",
   "pygments_lexer": "ipython3",
   "version": "3.9.12"
  }
 },
 "nbformat": 4,
 "nbformat_minor": 5
}
