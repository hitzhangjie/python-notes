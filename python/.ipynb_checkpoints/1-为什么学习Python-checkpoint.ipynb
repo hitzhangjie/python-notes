{
 "cells": [
  {
   "cell_type": "markdown",
   "id": "757895b9-3d8b-44c5-9fc1-e7396679a16f",
   "metadata": {
    "tags": []
   },
   "source": [
    "# Python学习总结\n",
    "\n",
    "主要是工作内容的影响吧，虽然以前学习过Python，但是实践中没有应用很多。不管是开发高性能的框架、逻辑服务、效率工具等，我都没有选择Python作为首选开发语言。当然了，工作过程中还是交接到一些Python编写的工程，并非一点经验没有。不过，我过去的这段经历确实让我觉得Python对我的工作内容可有可无一样。\n",
    "后面我在学习一门关于调试器的书籍时，作者是用Jupyter Lab来编写的，书中的内容以及代码示例都统一以Jupyter Lab Notebook的形式来提供，读者可以在阅读的同时直接运行示例代码查看结果，这让我对Jupyter Lab以及Python的应用场景产生了兴趣，事实让我感到很震撼。"
   ]
  },
  {
   "cell_type": "code",
   "execution_count": null,
   "id": "573d8204-6099-49ad-bddd-17b017b1b49a",
   "metadata": {},
   "outputs": [],
   "source": []
  }
 ],
 "metadata": {
  "kernelspec": {
   "display_name": "Python 3 (ipykernel)",
   "language": "python",
   "name": "python3"
  },
  "language_info": {
   "codemirror_mode": {
    "name": "ipython",
    "version": 3
   },
   "file_extension": ".py",
   "mimetype": "text/x-python",
   "name": "python",
   "nbconvert_exporter": "python",
   "pygments_lexer": "ipython3",
   "version": "3.9.12"
  }
 },
 "nbformat": 4,
 "nbformat_minor": 5
}
