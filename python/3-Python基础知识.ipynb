{
 "cells": [
  {
   "cell_type": "markdown",
   "id": "f8a87017-fbd0-4fb0-847a-1e9fb933cdbb",
   "metadata": {},
   "source": [
    "# 3 Python基础知识"
   ]
  },
  {
   "cell_type": "markdown",
   "id": "12194ea0-6589-400b-a1bd-3bc285ed9390",
   "metadata": {},
   "source": [
    "## 3.1 Python的优势\n",
    "\n",
    "Python和其他语言相比有哪些优势呢？see [刺激一下大伙的胃口](https://docs.python.org/3.9/tutorial/appetite.html)，我这里先尝试总结下。\n",
    "\n",
    "Python的优势：\n",
    "\n",
    "- 如果需要经常在计算机上做些自动化处理的任务，可能经常需要写些shell脚本类的，但是shell脚本更适用于做些文本处理、命令执行的组合逻辑，如果想做的更细致些，如写个小型数据库、游戏、图形化的东西，shell就不能胜任了。Python提供了比shell更丰富的能力、语言特性支持、数据类型支持，作为高级编程语言也比C提供了更多的错误检查能力，也提供了高级数据类型支持（如灵活的数组、字典）。由于Python提供了灵活的特性，至少Awk、Perl进行处理的任务在Python中处理起来也一样容易；\n",
    "- 如果你是计算机专业人员，可能会慢慢觉得使用C/C++/Java进行程序开发，这个过程write/compile/test/re-compile的反复，会让你觉得开发迭代太慢了。Python是解释型语言，没有编译、链接的过程，节省开发时间，也很容易验证语言的特性。自底向上的开发、测试要比其他语言方便很多；\n",
    "- Python解释器是可扩展的，你如果懂C的话，可以很容易为其添加一些内置的函数、模块支持，也可以将你的二进制程序集成Python解释器来扩展程序原有能力。这就是插件语言（[extension language](https://www.gnu.org/software/guile/docs/master/guile-tut.html/What-are-scripting-and-extension-languages.html#:~:text=An%20extension%20language%20is%20a,to%20extend%20the%20original%20application.))，python就很合适。之前接触的starlark就是类似Python的一个可方便与其他程序集成的插件语言，python也可以。\n",
    "- 相同功能的程序，与C/C++/Java相比，Python写出来的更简短容易维护，这主要取决于以下几点：\n",
    "    - 高级数据类型的支持，简化了对复杂操作的描述；\n",
    "    - 语句块是通过缩进层次来表示的，而非添加{}；\n",
    "    - 变量声明、参数声明是不必要的；\n",
    "- Python允许将大型程序按模块进行组织，这些模块可以被后续引入达到复用的目的。Python的标准库也提供了丰富的模块支持，包括文件IO、Socket通信、系统调用，甚至包含了对图形用户界面工具箱的相关接口（如Tk）；\n",
    "\n",
    "总结的可能有点片面、不充分，不管怎样吧，这些确实也是吸引我去进一步掌握Python的一些点。\n",
    "\n"
   ]
  },
  {
   "cell_type": "markdown",
   "id": "9ba00648-4d81-4aa5-a885-786e8369da77",
   "metadata": {},
   "source": [
    "## 3.2 使用Python解释器\n",
    "\n",
    "### 安装说明\n",
    "\n",
    "Python解释器在Unix平台上，通常/usr/bin/python都是安装的2.x版本的，3.x版本的一般也不会默认安装，安装的话一般也是安装到/usr/local/bin/python3.x的。\n",
    "\n",
    "这样的话，在机器上即便同时安装了2.x和3.x的版本，因为其安装的名字不同，实际执行时也不会产生冲突。我们可以运行`python -c 'cmd'`来运行2.x版本的python，也可以通过`python3.x -c 'cmd'`来运行3.x版本的python，不冲突。\n",
    "\n",
    "### 执行说明\n",
    "\n",
    "- Python解释器可以交互式的执行，以一种Read/Eval/Print/Loop（REPL)的方式不断执行，以Ctrl+D退出解释器；\n",
    "- Python解释器可以通过`python -c 'script'`的方式去执行一个python脚本（如果希望脚本执行完后仍以交互式方式运行，可以增加选项-i）；\n",
    "- Python解释器可以通过`python -m 'module'`的方式去执行一个module（如通过`python -m 'SimpleHTTPServer'`来执行一个http服务；\n",
    "\n",
    "关于参数的话，传递的参数需要通过`import sys`然后通过`sys.argv[]`来引用。增加了`-c`和`-m`选项后，sys.argv[0]是脚本名或者模块名，后面的是传递的参数列表信息。\n",
    "\n",
    "### 编码说明\n",
    "\n",
    "Python源文件默认都是UTF-8编码的，如果确实不是UTF-8编码的话，为了能正常显示源文件内容，需要在源文件头部增加编码说明，形式如：\n",
    "\n",
    "- case1: 通过`python -c 'script'`运行脚本，编码可以这样声明\n",
    "    ```python\n",
    "    # -*- coding: encoding -*-\n",
    "    ```\n",
    "\n",
    "- case2: 通过`./script`运行脚本，编码可以这样声明\n",
    "    ```python\n",
    "    #!/usr/bin/env python3\n",
    "    # -*- coding: cp1252 -*-\n",
    "    ```\n"
   ]
  },
  {
   "cell_type": "markdown",
   "id": "a4f7fd1a-f82d-4fde-9532-a66ea10ae88b",
   "metadata": {},
   "source": [
    "## 3.3 Python非正式介绍\n",
    "\n",
    "运行python解释器，可以将其当做一个交互式的计算器，另外还介绍了string、number、list的使用，详细请参考：https://docs.python.org/3.9/tutorial/introduction.html。\n",
    "\n",
    "不得不说，还是有些差异的，简单总结下。\n",
    "\n",
    "### 3.3.1 string类型\n",
    "\n",
    "- 字符串连接操作通过+，支持相邻字面量的连接，也支持字面量、变量间的连接；\n",
    "- 字符串连接操作，如果是两个字符串字面量可以直接进行连接，如`'hello' 'world'`；\n",
    "- 字符串repeat操作，如3*literal，表示重复3次；\n",
    "- 多行字符串，通过`'''...'''`，如果想去掉末尾的换行符，可以通过对应行内容加`\\`；"
   ]
  },
  {
   "cell_type": "code",
   "execution_count": 18,
   "id": "3292e99f-bf81-414e-ad44-2bc2bf448a1c",
   "metadata": {},
   "outputs": [
    {
     "name": "stdout",
     "output_type": "stream",
     "text": [
      "hellohellohello\n",
      "hello world\n"
     ]
    }
   ],
   "source": [
    "    # 以下是关于string类型的几个demo：\n",
    "\n",
    "    # 字符串repeat操作\n",
    "    print(3*'hello')\n",
    "\n",
    "    # 多行字符串写法\n",
    "    s = '''\\\n",
    "    hello \\\n",
    "    \\\n",
    "    world'''\n",
    "    \n",
    "    print(s) # should be \"hello world\""
   ]
  },
  {
   "cell_type": "markdown",
   "id": "ad15dda0-7ef4-4da9-a0f0-3422f35c361b",
   "metadata": {},
   "source": [
    "### 3.3.2 number\n",
    "\n",
    "- 整数除法操作，结果总是浮点计算结果，如果取商取整数，用`//`运算符代替`/`；\n",
    "- 特殊运算符`//`、`**`；"
   ]
  },
  {
   "cell_type": "code",
   "execution_count": 21,
   "id": "6cf8a8e3-1871-4926-ade8-f6c7e50b8adf",
   "metadata": {},
   "outputs": [
    {
     "name": "stdout",
     "output_type": "stream",
     "text": [
      "1.2\n",
      "1\n",
      "1\n",
      "9\n"
     ]
    }
   ],
   "source": [
    "    # 以下是关于number类型的几个demo\n",
    "    \n",
    "    # 除法的结果\n",
    "    print(6/5)\n",
    "    print(6//5)\n",
    "    print(6%5)\n",
    "    \n",
    "    # 特殊运算符\n",
    "    print(3**2)"
   ]
  },
  {
   "cell_type": "markdown",
   "id": "55676a7f-ff12-4a1d-a2f5-3c2257ce70a8",
   "metadata": {},
   "source": [
    "### 3.3.3 list\n",
    "\n",
    "list的使用相对go语言来说，比较好理解，也有些不同：\n",
    "- list支持通过`negative index`来进行访问，-1表示最后一个，+0和-0均表示0；\n",
    "- list支持append操作，也支持连接操作，连接操作和string类似使用`+`运算符；"
   ]
  },
  {
   "cell_type": "code",
   "execution_count": 25,
   "id": "2dd90908-8b31-484b-b177-fcdd0beb0432",
   "metadata": {},
   "outputs": [
    {
     "name": "stdout",
     "output_type": "stream",
     "text": [
      "4 3\n",
      "[1, 2, 3, 4, 5]\n",
      "[1, 2, 3, 4, 5, 6, 7, 8]\n"
     ]
    }
   ],
   "source": [
    "    # 以下是关于list类型的几个demo\n",
    "    \n",
    "    # list负数索引访问\n",
    "    v = [1,2,3,4]\n",
    "    print(v[-1],v[-2])\n",
    "    \n",
    "    # list append\n",
    "    v.append(5)\n",
    "    print(v)\n",
    "    \n",
    "    # list 连接操作\n",
    "    v = v + [6,7,8]\n",
    "    print(v)"
   ]
  }
 ],
 "metadata": {
  "kernelspec": {
   "display_name": "Python 3 (ipykernel)",
   "language": "python",
   "name": "python3"
  },
  "language_info": {
   "codemirror_mode": {
    "name": "ipython",
    "version": 3
   },
   "file_extension": ".py",
   "mimetype": "text/x-python",
   "name": "python",
   "nbconvert_exporter": "python",
   "pygments_lexer": "ipython3",
   "version": "3.9.12"
  }
 },
 "nbformat": 4,
 "nbformat_minor": 5
}
